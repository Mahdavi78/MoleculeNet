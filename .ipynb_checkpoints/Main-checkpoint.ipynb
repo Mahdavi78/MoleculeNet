{
 "cells": [
  {
   "cell_type": "markdown",
   "id": "727d731d-1961-4907-91c6-0ae29edd34a8",
   "metadata": {},
   "source": [
    "%load_ext autoreload\n",
    "%autoreload 2"
   ]
  },
  {
   "cell_type": "markdown",
   "id": "629934a7-471e-44ec-b9ca-dd2b67dd04f7",
   "metadata": {},
   "source": [
    "# Tokenizing smiles"
   ]
  },
  {
   "cell_type": "code",
   "execution_count": 16,
   "id": "d4b486ba-ae31-444a-acb1-a34595d22257",
   "metadata": {},
   "outputs": [],
   "source": [
    "import pandas as pd\n",
    "import torch\n",
    "from Preprocess.utils import SMILESTokenizerBuilder, RawDataLoader\n",
    "\n"
   ]
  },
  {
   "cell_type": "code",
   "execution_count": 17,
   "id": "0ae180f9-fd25-49a5-9093-2c773a5f6bd9",
   "metadata": {},
   "outputs": [],
   "source": [
    "file_name = \"qm9.csv\"\n",
    "\n",
    "# Initialize the data loader with qm9.csv\n",
    "loader = RawDataLoader(file_name, smiles_column=\"smiles\")\n",
    "\n",
    "# Create a tokenizer with initial vocabulary of basic elements\n",
    "initial_vocab = [\"C\", \"N\", \"O\"]\n",
    "tokenizer = SMILESTokenizerBuilder(vocab_list=initial_vocab)\n",
    "\n",
    "# Get unique tokens from all SMILES\n",
    "unique_tokens = tokenizer.tokenize_with_vocab(loader.data, \"smiles\")\n",
    "tokenizer.build_vocab_mappings()\n"
   ]
  },
  {
   "cell_type": "code",
   "execution_count": 18,
   "id": "042d2470-a7af-4da9-8231-1960b8d0f149",
   "metadata": {},
   "outputs": [
    {
     "name": "stdout",
     "output_type": "stream",
     "text": [
      "Resulting vocabulary after processing all SMILES:\n",
      "['<SOS>', 'C', 'F', 'H', 'N', 'O', '#', '(', ')', '+', '-', '=', '[', ']', '1', '2', '3', '4', '5', '<EOS>', '<PAD>']\n",
      "\n",
      "Token's id\n",
      "{'<PAD>': 0, '<SOS>': 1, '<EOS>': 60, 'C': 10, 'F': 11, 'H': 12, 'N': 13, 'O': 14, '#': 30, '(': 31, ')': 32, '+': 33, '-': 34, '=': 35, '[': 36, ']': 37, '1': 40, '2': 41, '3': 42, '4': 43, '5': 44}\n",
      "\n",
      "Token statistics\n",
      "Number of unique tokens found: 21\n",
      "Tokens Frequency : Counter({'C': 846556, '1': 270020, 'O': 187997, 'N': 139764, '(': 126532, ')': 126532, '2': 121675, '=': 106335, '#': 37027, '3': 34756, '[': 9918, ']': 9918, 'H': 8247, '4': 5186, 'F': 3314, '-': 1808, '+': 1705, '5': 242})\n"
     ]
    },
    {
     "data": {
      "image/png": "[encoded data removed]",
      "text/plain": [
       "<Figure size 640x480 with 1 Axes>"
      ]
     },
     "metadata": {},
     "output_type": "display_data"
    }
   ],
   "source": [
    "# Print the resulting vocabulary\n",
    "\n",
    "print(\"Resulting vocabulary after processing all SMILES:\")\n",
    "print(unique_tokens)\n",
    "\n",
    "print(\"\\nToken's id\")\n",
    "print(tokenizer.vocab_to_idx)\n",
    "\n",
    "# Print statistics\n",
    "print(\"\\nToken statistics\")\n",
    "print(f\"Number of unique tokens found: {len(unique_tokens)}\")\n",
    "print(f\"Tokens Frequency : {tokenizer.token_counts}\")\n",
    "\n",
    "import matplotlib.pyplot as plt\n",
    "\n",
    "stats = tokenizer.token_counts\n",
    "sorted_items = sorted(stats.items(), key=lambda x: x[1], reverse=True)\n",
    "tokens, counts = zip(*sorted_items)\n",
    "\n",
    "plt.bar(tokens, counts)\n",
    "plt.show()"
   ]
  },
  {
   "cell_type": "code",
   "execution_count": 62,
   "id": "b4a1f3c1-9ebc-43d3-ba57-25bea487c88b",
   "metadata": {},
   "outputs": [
    {
     "name": "stdout",
     "output_type": "stream",
     "text": [
      "Tensor shape: torch.Size([133885, 40])\n",
      "\n",
      "Sequence with least padding (index 24869):\n",
      "Sequence: [1, 10, 40, 31, 35, 14, 32, 36, 13, 12, 37, 10, 31, 35, 14, 32, 36, 13, 12, 37, 10, 31, 35, 14, 32, 36, 13, 12, 37, 40, 60, 0, 0, 0, 0, 0, 0, 0, 0, 0]\n",
      "Number of padding tokens: 9\n",
      "Original SMILES: c1(=O)[nH]c(=O)[nH]c(=O)[nH]1\n",
      "\n",
      "Top 3 sequences with least padding:\n",
      "\n",
      "Index 24869:\n",
      "Sequence: [1, 10, 40, 31, 35, 14, 32, 36, 13, 12, 37, 10, 31, 35, 14, 32, 36, 13, 12, 37, 10, 31, 35, 14, 32, 36, 13, 12, 37, 40, 60, 0, 0, 0, 0, 0, 0, 0, 0, 0]\n",
      "Padding tokens: 9\n",
      "Original SMILES: c1(=O)[nH]c(=O)[nH]c(=O)[nH]1\n",
      "\n",
      "Index 54383:\n",
      "Sequence: [1, 10, 10, 40, 41, 10, 10, 31, 10, 40, 32, 31, 36, 13, 12, 41, 33, 37, 41, 32, 10, 31, 36, 14, 34, 37, 32, 35, 14, 60, 0, 0, 0, 0, 0, 0, 0, 0, 0, 0]\n",
      "Padding tokens: 10\n",
      "Original SMILES: CC12CC(C1)([NH2+]2)C([O-])=O\n",
      "\n",
      "Index 54386:\n",
      "Sequence: [1, 36, 13, 12, 42, 33, 37, 10, 40, 41, 10, 10, 31, 10, 40, 32, 31, 10, 41, 32, 10, 31, 36, 14, 34, 37, 32, 35, 14, 60, 0, 0, 0, 0, 0, 0, 0, 0, 0, 0]\n",
      "Padding tokens: 10\n",
      "Original SMILES: [NH3+]C12CC(C1)(C2)C([O-])=O\n",
      "\n",
      "Index 54548:\n",
      "Sequence: [1, 36, 14, 34, 37, 10, 31, 35, 14, 32, 10, 40, 41, 10, 10, 42, 10, 31, 36, 13, 12, 41, 33, 37, 40, 32, 10, 41, 42, 60, 0, 0, 0, 0, 0, 0, 0, 0, 0, 0]\n",
      "Padding tokens: 10\n",
      "Original SMILES: [O-]C(=O)C12CC3C([NH2+]1)C23\n",
      "\n",
      "Index 24953:\n",
      "Sequence: [1, 10, 40, 36, 13, 12, 37, 10, 41, 10, 31, 13, 40, 32, 36, 13, 12, 37, 10, 31, 35, 14, 32, 36, 13, 12, 37, 41, 60, 0, 0, 0, 0, 0, 0, 0, 0, 0, 0, 0]\n",
      "Padding tokens: 11\n",
      "Original SMILES: c1[nH]c2c(n1)[nH]c(=O)[nH]2\n"
     ]
    }
   ],
   "source": [
    "seq_len = 40\n",
    "smiles_tensor = tokenizer.encode_to_tensor(loader.data, seq_len)\n",
    "print(f\"Tensor shape: {smiles_tensor.shape}\")\n",
    "\n",
    "# Calculate number of zeros (padding) in each sequence\n",
    "padding_counts = (smiles_tensor == 0).sum(dim=1)\n",
    "\n",
    "# Find the index of the sequence with minimum padding\n",
    "min_padding_idx = padding_counts.argmin().item()\n",
    "\n",
    "# Get the sequence with least padding\n",
    "least_padded_seq = smiles_tensor[min_padding_idx]\n",
    "\n",
    "print(f\"\\nSequence with least padding (index {min_padding_idx}):\")\n",
    "print(f\"Sequence: {least_padded_seq.tolist()}\")\n",
    "print(f\"Number of padding tokens: {padding_counts[min_padding_idx].item()}\")\n",
    "print(f\"Original SMILES: {loader.data.iloc[min_padding_idx]['smiles']}\")\n",
    "\n",
    "# Optional: Show top 5 sequences with least padding\n",
    "print(\"\\nTop 3 sequences with least padding:\")\n",
    "top_3_indices = padding_counts.argsort()[:3]\n",
    "for idx in top_5_indices:\n",
    "    idx_int = idx.item()  # Convert tensor to integer\n",
    "    seq = smiles_tensor[idx_int]\n",
    "    print(f\"\\nIndex {idx_int}:\")\n",
    "    print(f\"Sequence: {seq.tolist()}\")\n",
    "    print(f\"Padding tokens: {padding_counts[idx_int].item()}\")\n",
    "    print(f\"Original SMILES: {loader.data.iloc[idx_int]['smiles']}\")"
   ]
  },
  {
   "cell_type": "markdown",
   "id": "35a63397-cd34-46e5-8aff-c30d9c92bf08",
   "metadata": {},
   "source": [
    "# Getting Target's "
   ]
  },
  {
   "cell_type": "code",
   "execution_count": 63,
   "id": "d618820b-7701-4af4-981f-fa5d08eca2b3",
   "metadata": {},
   "outputs": [
    {
     "name": "stdout",
     "output_type": "stream",
     "text": [
      "torch.Size([133885])\n",
      "tensor(-119.0479)\n"
     ]
    }
   ],
   "source": [
    "Y = torch.tensor(loader.data['u298'].values, dtype=torch.float32)\n",
    "print(Y.shape)\n",
    "print(Y[12])"
   ]
  },
  {
   "cell_type": "code",
   "execution_count": 134,
   "id": "7023f62c-b528-4fa8-b871-7e97ebe1cbd7",
   "metadata": {},
   "outputs": [
    {
     "data": {
      "image/png": "[encoded data removed]",
      "text/plain": [
       "<Figure size 2000x500 with 3 Axes>"
      ]
     },
     "metadata": {},
     "output_type": "display_data"
    },
    {
     "name": "stdout",
     "output_type": "stream",
     "text": [
      "\n",
      "Statistics:\n",
      "\n",
      "Original Y:\n",
      "Mean: -411.54\n",
      "Std: 40.06\n",
      "Min: -714.56\n",
      "Max: -40.48\n",
      "\n",
      "Per-Length Transformed:\n",
      "Mean: -21.61\n",
      "Std: 2.68\n",
      "Min: -35.58\n",
      "Max: -8.10\n",
      "\n",
      "Per-Length Standardized:\n",
      "Mean: 0.00\n",
      "Std: 1.00\n",
      "Min: -5.20\n",
      "Max: 5.04\n"
     ]
    }
   ],
   "source": [
    "from Model.TargetTransformer import TargetTransformer\n",
    "\n",
    "# Initialize transformer\n",
    "transformer = TargetTransformer()\n",
    "'''---------------------------------\n",
    "        y is tranformed like this ,\n",
    "n= length of not 'PAD' elements of X\n",
    "e= normalizer value\n",
    "    y = y/(n+e)\n",
    "\n",
    "'''----------------------------------\n",
    "# Get transformed values\n",
    "Y_per_length = transformer.per_length(X, Y, e=2)\n",
    "Y_per_length_standard = transformer.per_length_standard(X, Y, e=2)\n",
    "\n",
    "# Create figure with 3 subplots\n",
    "fig, (ax1, ax2, ax3) = plt.subplots(1, 3, figsize=(20, 5))\n",
    "\n",
    "# Plot original Y distribution\n",
    "ax1.hist(Y.cpu().numpy(), bins=50, edgecolor='black')\n",
    "ax1.set_title('Original Y Distribution')\n",
    "ax1.set_xlabel('Y values')\n",
    "ax1.set_ylabel('Count')\n",
    "\n",
    "# Plot per_length distribution\n",
    "ax2.hist(Y_per_length.cpu().numpy(), bins=50, edgecolor='black')\n",
    "ax2.set_title('Per-Length Transformed Distribution')\n",
    "ax2.set_xlabel('Y/(length + e)')\n",
    "ax2.set_ylabel('Count')\n",
    "\n",
    "# Plot per_length_standard distribution\n",
    "ax3.hist(Y_per_length_standard.cpu().numpy(), bins=50, edgecolor='black')\n",
    "ax3.set_title('Per-Length Standardized Distribution')\n",
    "ax3.set_xlabel('Standardized Y/(length + e)')\n",
    "ax3.set_ylabel('Count')\n",
    "\n",
    "plt.tight_layout()\n",
    "plt.show()\n",
    "\n",
    "# Print some statistics\n",
    "print(\"\\nStatistics:\")\n",
    "print(\"\\nOriginal Y:\")\n",
    "print(f\"Mean: {Y.mean():.2f}\")\n",
    "print(f\"Std: {Y.std():.2f}\")\n",
    "print(f\"Min: {Y.min():.2f}\")\n",
    "print(f\"Max: {Y.max():.2f}\")\n",
    "\n",
    "print(\"\\nPer-Length Transformed:\")\n",
    "print(f\"Mean: {Y_per_length.mean():.2f}\")\n",
    "print(f\"Std: {Y_per_length.std():.2f}\")\n",
    "print(f\"Min: {Y_per_length.min():.2f}\")\n",
    "print(f\"Max: {Y_per_length.max():.2f}\")\n",
    "\n",
    "print(\"\\nPer-Length Standardized:\")\n",
    "print(f\"Mean: {Y_per_length_standard.mean():.2f}\")\n",
    "print(f\"Std: {Y_per_length_standard.std():.2f}\")\n",
    "print(f\"Min: {Y_per_length_standard.min():.2f}\")\n",
    "print(f\"Max: {Y_per_length_standard.max():.2f}\")"
   ]
  },
  {
   "cell_type": "markdown",
   "id": "53203c5e-b473-4d83-8cc0-3d274b9919bf",
   "metadata": {},
   "source": [
    "# Creating Model\n",
    "Model is consists of a Transformer_encoder part to reach latent space and then an MLP to do the Task"
   ]
  },
  {
   "cell_type": "code",
   "execution_count": 112,
   "id": "4de81fb9-b747-4928-877b-758609fb0d6f",
   "metadata": {},
   "outputs": [],
   "source": [
    "from Model.transformer_encoder import TransformerEncoder\n",
    "from Model.mlp import MLP\n",
    "from Model.combined_model import CombinedModel\n",
    "import torch.nn as nn"
   ]
  },
  {
   "cell_type": "code",
   "execution_count": 113,
   "id": "fc24a3f9-e244-4484-a8b7-09475f3a0cd8",
   "metadata": {},
   "outputs": [],
   "source": [
    "# Initialize the models\n",
    "transformer = TransformerEncoder(\n",
    "    vocab_size=tokenizer.get_vocab_size(),\n",
    "    d_model=128,\n",
    "    nhead=4,\n",
    "    num_encoder_layers=2,\n",
    "    dim_feedforward=512,\n",
    "    dropout=0.1,\n",
    "    max_seq_length=seq_len,\n",
    "    padding_token=0\n",
    ")\n",
    "\n",
    "mlp = MLP(\n",
    "    input_dim=128,\n",
    "    output_dim=1,\n",
    "    dims=[256,128,64,32,8,1],\n",
    "    activations=['leaky_relu', 'leaky_relu', 'tanh','tanh', 'tanh','']\n",
    ")\n",
    "\n",
    "model = CombinedModel(transformer , mlp)"
   ]
  },
  {
   "cell_type": "code",
   "execution_count": 114,
   "id": "d37fcbec-bbdc-4379-b344-766e9dbf9505",
   "metadata": {},
   "outputs": [
    {
     "name": "stdout",
     "output_type": "stream",
     "text": [
      "Total trainable parameters: 480,883\n",
      "\n",
      "Parameters by layer:\n",
      "transformer.token_embedding.weight: 7,808 parameters\n",
      "transformer.transformer_encoder.layers.0.self_attn.in_proj_weight: 49,152 parameters\n",
      "transformer.transformer_encoder.layers.0.self_attn.in_proj_bias: 384 parameters\n",
      "transformer.transformer_encoder.layers.0.self_attn.out_proj.weight: 16,384 parameters\n",
      "transformer.transformer_encoder.layers.0.self_attn.out_proj.bias: 128 parameters\n",
      "transformer.transformer_encoder.layers.0.linear1.weight: 65,536 parameters\n",
      "transformer.transformer_encoder.layers.0.linear1.bias: 512 parameters\n",
      "transformer.transformer_encoder.layers.0.linear2.weight: 65,536 parameters\n",
      "transformer.transformer_encoder.layers.0.linear2.bias: 128 parameters\n",
      "transformer.transformer_encoder.layers.0.norm1.weight: 128 parameters\n",
      "transformer.transformer_encoder.layers.0.norm1.bias: 128 parameters\n",
      "transformer.transformer_encoder.layers.0.norm2.weight: 128 parameters\n",
      "transformer.transformer_encoder.layers.0.norm2.bias: 128 parameters\n",
      "transformer.transformer_encoder.layers.1.self_attn.in_proj_weight: 49,152 parameters\n",
      "transformer.transformer_encoder.layers.1.self_attn.in_proj_bias: 384 parameters\n",
      "transformer.transformer_encoder.layers.1.self_attn.out_proj.weight: 16,384 parameters\n",
      "transformer.transformer_encoder.layers.1.self_attn.out_proj.bias: 128 parameters\n",
      "transformer.transformer_encoder.layers.1.linear1.weight: 65,536 parameters\n",
      "transformer.transformer_encoder.layers.1.linear1.bias: 512 parameters\n",
      "transformer.transformer_encoder.layers.1.linear2.weight: 65,536 parameters\n",
      "transformer.transformer_encoder.layers.1.linear2.bias: 128 parameters\n",
      "transformer.transformer_encoder.layers.1.norm1.weight: 128 parameters\n",
      "transformer.transformer_encoder.layers.1.norm1.bias: 128 parameters\n",
      "transformer.transformer_encoder.layers.1.norm2.weight: 128 parameters\n",
      "transformer.transformer_encoder.layers.1.norm2.bias: 128 parameters\n",
      "mlp.model.0.weight: 32,768 parameters\n",
      "mlp.model.0.bias: 256 parameters\n",
      "mlp.model.2.weight: 32,768 parameters\n",
      "mlp.model.2.bias: 128 parameters\n",
      "mlp.model.4.weight: 8,192 parameters\n",
      "mlp.model.4.bias: 64 parameters\n",
      "mlp.model.6.weight: 2,048 parameters\n",
      "mlp.model.6.bias: 32 parameters\n",
      "mlp.model.8.weight: 256 parameters\n",
      "mlp.model.8.bias: 8 parameters\n",
      "mlp.model.10.weight: 8 parameters\n",
      "mlp.model.10.bias: 1 parameters\n",
      "mlp.model.11.weight: 1 parameters\n",
      "mlp.model.11.bias: 1 parameters\n"
     ]
    }
   ],
   "source": [
    "def count_parameters(model):\n",
    "    return sum(p.numel() for p in model.parameters() if p.requires_grad)\n",
    "\n",
    "# Count total parameters\n",
    "total_params = count_parameters(model)\n",
    "print(f\"Total trainable parameters: {total_params:,}\")\n",
    "\n",
    "# Optional: Print parameters by layer\n",
    "print(\"\\nParameters by layer:\")\n",
    "for name, param in model.named_parameters():\n",
    "    if param.requires_grad:\n",
    "        print(f\"{name}: {param.numel():,} parameters\")"
   ]
  },
  {
   "cell_type": "code",
   "execution_count": 115,
   "id": "9f5ae1ea-a7af-4df8-a779-ba5df1376be3",
   "metadata": {},
   "outputs": [],
   "source": [
    "import torch\n",
    "from torch.utils.data import DataLoader, random_split\n",
    "from Model.utils import create_data_loaders\n",
    "import numpy as np"
   ]
  },
  {
   "cell_type": "code",
   "execution_count": 116,
   "id": "226dc502-7311-406b-abdc-932310054bf4",
   "metadata": {},
   "outputs": [],
   "source": [
    "X = smiles_tensor"
   ]
  },
  {
   "cell_type": "code",
   "execution_count": 127,
   "id": "c6c6166a-678a-4b9c-9165-7cd5c6eb5b20",
   "metadata": {},
   "outputs": [
    {
     "name": "stdout",
     "output_type": "stream",
     "text": [
      "Data split statistics:\n",
      "Total data size: 133885\n",
      "Subset size (50.0%): 66942\n",
      "Test selection pool size (40%): 53554\n",
      "\n",
      "Split sizes:\n",
      "Training set: 53554\n",
      "Test set: 13388\n",
      "\n",
      "Padding statistics per split:\n",
      "Train set avg padding: 24.09\n",
      "Test set avg padding: 20.81\n",
      "Sequence Length Statistics:\n",
      "Min length: 3\n",
      "Max length: 18\n",
      "Mean length: 15.91\n",
      "Median length: 16.00\n",
      "Std length: 1.44\n"
     ]
    },
    {
     "data": {
      "image/png": "[encoded data removed]",
      "text/plain": [
       "<Figure size 1200x600 with 1 Axes>"
      ]
     },
     "metadata": {},
     "output_type": "display_data"
    },
    {
     "name": "stdout",
     "output_type": "stream",
     "text": [
      "\n",
      "Length Distribution:\n",
      "Length 1-5: 7 sequences (0.01%)\n",
      "Length 6-10: 217 sequences (0.41%)\n",
      "Length 11-15: 16943 sequences (31.64%)\n",
      "Length 16-20: 36387 sequences (67.94%)\n",
      "Length 21-25: 0 sequences (0.00%)\n",
      "Length 26-30: 0 sequences (0.00%)\n",
      "Length 31-35: 0 sequences (0.00%)\n",
      "Length 36-40: 0 sequences (0.00%)\n",
      "Length 41-45: 0 sequences (0.00%)\n",
      "Length 46-50: 0 sequences (0.00%)\n",
      "\n",
      "Training Data Statistics:\n",
      "Total sequences: 53554\n",
      "Average length: 15.91\n"
     ]
    }
   ],
   "source": [
    "# Import the function\n",
    "from Data.utils import train_x_stats\n",
    "from Model.utils import create_train_test_loaders\n",
    "# Create data loaders\n",
    "torch.manual_seed(42)\n",
    "np.random.seed(42)\n",
    "train_loader, test_loader = create_train_test_loaders(\n",
    "    X=X,\n",
    "    Y=Y,\n",
    "    p=0.5,  # Use 50% of data\n",
    "    split_ratios=[0.2, 0.8],  # [test, train] ratios\n",
    "    batch_size=160\n",
    ")\n",
    "\n",
    "\n",
    "# Get statistics for training data\n",
    "train_stats = train_x_stats(train_loader)\n",
    "\n",
    "# Access specific statistics\n",
    "print(\"\\nTraining Data Statistics:\")\n",
    "print(f\"Total sequences: {train_stats['total_size']}\")\n",
    "print(f\"Average length: {train_stats['mean_length']:.2f}\")"
   ]
  },
  {
   "cell_type": "code",
   "execution_count": 130,
   "id": "84779916-4764-4fa4-83ed-167a28666190",
   "metadata": {},
   "outputs": [
    {
     "name": "stdout",
     "output_type": "stream",
     "text": [
      "\n",
      "Loader 1 Statistics:\n",
      "Size: 13388\n",
      "Average padding: 26.02\n",
      "\n",
      "Loader 2 Statistics:\n",
      "Size: 13388\n",
      "Average padding: 24.28\n",
      "\n",
      "Loader 3 Statistics:\n",
      "Size: 13388\n",
      "Average padding: 23.32\n",
      "\n",
      "Loader 4 Statistics:\n",
      "Size: 13390\n",
      "Average padding: 22.72\n"
     ]
    }
   ],
   "source": [
    "from Model.utils import create_Incremental_loaders\n",
    "\n",
    "# Create 4 incremental loaders from your train_loader\n",
    "loaders = create_Incremental_loaders(\n",
    "    train_loader=train_loader,\n",
    "    n=4,  # Create 4 loaders\n",
    "    batch_size=160  # Optional: specify batch size\n",
    ")\n",
    "\n",
    "# Access individual loaders\n",
    "train_loader1 = loaders[0]  # First quarter (most padding)\n",
    "train_loader2 = loaders[1]  # Second quarter\n",
    "train_loader3 = loaders[2]  # Third quarter\n",
    "train_loader4 = loaders[3]  # Last quarter (least padding)"
   ]
  },
  {
   "cell_type": "code",
   "execution_count": 122,
   "id": "81fcb89d-eaa4-46fc-9139-1aa49b789caf",
   "metadata": {},
   "outputs": [],
   "source": [
    "import torch.optim as optim\n",
    "from Model.trainer import Trainer\n",
    "\n",
    "# Define loss function\n",
    "criterion = nn.MSELoss()  # For energy task\n",
    "\n",
    "# Define optimizer\n",
    "optimizer = torch.optim.Adam(\n",
    "    model.parameters(),\n",
    "    lr=0.001,\n",
    "    betas=(0.9, 0.999),\n",
    "    eps=1e-8,\n",
    "    weight_decay=0.01\n",
    ")\n",
    "\n",
    "# Define learning rate scheduler\n",
    "scheduler = torch.optim.lr_scheduler.ReduceLROnPlateau(\n",
    "    optimizer,\n",
    "    mode='min',\n",
    "    factor=0.5,\n",
    "    patience=5,\n",
    ")"
   ]
  },
  {
   "cell_type": "code",
   "execution_count": 123,
   "id": "d1c6dc13-4761-4e1a-a598-16cfe10ff1cc",
   "metadata": {},
   "outputs": [
    {
     "name": "stdout",
     "output_type": "stream",
     "text": [
      "Using device: cpu\n"
     ]
    }
   ],
   "source": [
    "# Set device\n",
    "device = torch.device('cuda' if torch.cuda.is_available() else 'cpu')\n",
    "print(f\"Using device: {device}\")\n",
    "\n",
    "model.to(device)\n",
    "\n",
    "# Initialize trainer\n",
    "trainer = Trainer(\n",
    "    model=model,\n",
    "    criterion=criterion,\n",
    "    optimizer=optimizer,\n",
    "    device=device\n",
    ")"
   ]
  },
  {
   "cell_type": "code",
   "execution_count": 131,
   "id": "9f3c42d2-b886-455e-9dda-9f2952d24da6",
   "metadata": {},
   "outputs": [
    {
     "name": "stdout",
     "output_type": "stream",
     "text": [
      "Epoch: 1/10 Batch: 0/84 Loss: 56840.1133\n",
      "Epoch: 1/10 Batch: 40/84 Loss: 53485.7188\n",
      "Epoch: 1/10 Batch: 80/84 Loss: 49450.0742\n",
      "Epoch: 1/10 Train Loss: 52861.0028 Time: 168.55s\n",
      "Epoch: 2/10 Batch: 0/84 Loss: 55306.1016\n",
      "Epoch: 2/10 Batch: 40/84 Loss: 50815.5703\n",
      "Epoch: 2/10 Batch: 80/84 Loss: 48494.2891\n",
      "Epoch: 2/10 Train Loss: 49975.4245 Time: 165.25s\n",
      "Epoch: 3/10 Batch: 0/84 Loss: 49670.2930\n",
      "Epoch: 3/10 Batch: 40/84 Loss: 47848.2500\n"
     ]
    },
    {
     "ename": "KeyboardInterrupt",
     "evalue": "",
     "output_type": "error",
     "traceback": [
      "\u001b[1;31m---------------------------------------------------------------------------\u001b[0m",
      "\u001b[1;31mKeyboardInterrupt\u001b[0m                         Traceback (most recent call last)",
      "Cell \u001b[1;32mIn[131], line 2\u001b[0m\n\u001b[0;32m      1\u001b[0m \u001b[38;5;66;03m# Train the model\u001b[39;00m\n\u001b[1;32m----> 2\u001b[0m \u001b[43mtrainer\u001b[49m\u001b[38;5;241;43m.\u001b[39;49m\u001b[43mtrain\u001b[49m\u001b[43m(\u001b[49m\n\u001b[0;32m      3\u001b[0m \u001b[43m    \u001b[49m\u001b[43mtrain_loader\u001b[49m\u001b[38;5;241;43m=\u001b[39;49m\u001b[43mtrain_loader1\u001b[49m\u001b[43m,\u001b[49m\n\u001b[0;32m      4\u001b[0m \u001b[43m    \u001b[49m\u001b[43mnum_epochs\u001b[49m\u001b[38;5;241;43m=\u001b[39;49m\u001b[38;5;241;43m10\u001b[39;49m\u001b[43m,\u001b[49m\n\u001b[0;32m      5\u001b[0m \u001b[43m    \u001b[49m\u001b[43mscheduler\u001b[49m\u001b[38;5;241;43m=\u001b[39;49m\u001b[43mscheduler\u001b[49m\n\u001b[0;32m      6\u001b[0m \u001b[43m)\u001b[49m\n",
      "File \u001b[1;32m~\\Desktop\\Molecules\\code\\Model\\trainer.py:85\u001b[0m, in \u001b[0;36mTrainer.train\u001b[1;34m(self, train_loader, num_epochs, scheduler)\u001b[0m\n\u001b[0;32m     82\u001b[0m loss \u001b[38;5;241m=\u001b[39m \u001b[38;5;28mself\u001b[39m\u001b[38;5;241m.\u001b[39mcriterion(output, target)\n\u001b[0;32m     84\u001b[0m \u001b[38;5;66;03m# Backward pass\u001b[39;00m\n\u001b[1;32m---> 85\u001b[0m \u001b[43mloss\u001b[49m\u001b[38;5;241;43m.\u001b[39;49m\u001b[43mbackward\u001b[49m\u001b[43m(\u001b[49m\u001b[43m)\u001b[49m\n\u001b[0;32m     86\u001b[0m \u001b[38;5;28mself\u001b[39m\u001b[38;5;241m.\u001b[39moptimizer\u001b[38;5;241m.\u001b[39mstep()\n\u001b[0;32m     88\u001b[0m \u001b[38;5;66;03m# Update training loss\u001b[39;00m\n",
      "File \u001b[1;32m~\\AppData\\Local\\Programs\\Python\\Python310\\lib\\site-packages\\torch\\_tensor.py:648\u001b[0m, in \u001b[0;36mTensor.backward\u001b[1;34m(self, gradient, retain_graph, create_graph, inputs)\u001b[0m\n\u001b[0;32m    638\u001b[0m \u001b[38;5;28;01mif\u001b[39;00m has_torch_function_unary(\u001b[38;5;28mself\u001b[39m):\n\u001b[0;32m    639\u001b[0m     \u001b[38;5;28;01mreturn\u001b[39;00m handle_torch_function(\n\u001b[0;32m    640\u001b[0m         Tensor\u001b[38;5;241m.\u001b[39mbackward,\n\u001b[0;32m    641\u001b[0m         (\u001b[38;5;28mself\u001b[39m,),\n\u001b[1;32m   (...)\u001b[0m\n\u001b[0;32m    646\u001b[0m         inputs\u001b[38;5;241m=\u001b[39minputs,\n\u001b[0;32m    647\u001b[0m     )\n\u001b[1;32m--> 648\u001b[0m \u001b[43mtorch\u001b[49m\u001b[38;5;241;43m.\u001b[39;49m\u001b[43mautograd\u001b[49m\u001b[38;5;241;43m.\u001b[39;49m\u001b[43mbackward\u001b[49m\u001b[43m(\u001b[49m\n\u001b[0;32m    649\u001b[0m \u001b[43m    \u001b[49m\u001b[38;5;28;43mself\u001b[39;49m\u001b[43m,\u001b[49m\u001b[43m \u001b[49m\u001b[43mgradient\u001b[49m\u001b[43m,\u001b[49m\u001b[43m \u001b[49m\u001b[43mretain_graph\u001b[49m\u001b[43m,\u001b[49m\u001b[43m \u001b[49m\u001b[43mcreate_graph\u001b[49m\u001b[43m,\u001b[49m\u001b[43m \u001b[49m\u001b[43minputs\u001b[49m\u001b[38;5;241;43m=\u001b[39;49m\u001b[43minputs\u001b[49m\n\u001b[0;32m    650\u001b[0m \u001b[43m\u001b[49m\u001b[43m)\u001b[49m\n",
      "File \u001b[1;32m~\\AppData\\Local\\Programs\\Python\\Python310\\lib\\site-packages\\torch\\autograd\\__init__.py:353\u001b[0m, in \u001b[0;36mbackward\u001b[1;34m(tensors, grad_tensors, retain_graph, create_graph, grad_variables, inputs)\u001b[0m\n\u001b[0;32m    348\u001b[0m     retain_graph \u001b[38;5;241m=\u001b[39m create_graph\n\u001b[0;32m    350\u001b[0m \u001b[38;5;66;03m# The reason we repeat the same comment below is that\u001b[39;00m\n\u001b[0;32m    351\u001b[0m \u001b[38;5;66;03m# some Python versions print out the first line of a multi-line function\u001b[39;00m\n\u001b[0;32m    352\u001b[0m \u001b[38;5;66;03m# calls in the traceback and some print out the last line\u001b[39;00m\n\u001b[1;32m--> 353\u001b[0m \u001b[43m_engine_run_backward\u001b[49m\u001b[43m(\u001b[49m\n\u001b[0;32m    354\u001b[0m \u001b[43m    \u001b[49m\u001b[43mtensors\u001b[49m\u001b[43m,\u001b[49m\n\u001b[0;32m    355\u001b[0m \u001b[43m    \u001b[49m\u001b[43mgrad_tensors_\u001b[49m\u001b[43m,\u001b[49m\n\u001b[0;32m    356\u001b[0m \u001b[43m    \u001b[49m\u001b[43mretain_graph\u001b[49m\u001b[43m,\u001b[49m\n\u001b[0;32m    357\u001b[0m \u001b[43m    \u001b[49m\u001b[43mcreate_graph\u001b[49m\u001b[43m,\u001b[49m\n\u001b[0;32m    358\u001b[0m \u001b[43m    \u001b[49m\u001b[43minputs\u001b[49m\u001b[43m,\u001b[49m\n\u001b[0;32m    359\u001b[0m \u001b[43m    \u001b[49m\u001b[43mallow_unreachable\u001b[49m\u001b[38;5;241;43m=\u001b[39;49m\u001b[38;5;28;43;01mTrue\u001b[39;49;00m\u001b[43m,\u001b[49m\n\u001b[0;32m    360\u001b[0m \u001b[43m    \u001b[49m\u001b[43maccumulate_grad\u001b[49m\u001b[38;5;241;43m=\u001b[39;49m\u001b[38;5;28;43;01mTrue\u001b[39;49;00m\u001b[43m,\u001b[49m\n\u001b[0;32m    361\u001b[0m \u001b[43m\u001b[49m\u001b[43m)\u001b[49m\n",
      "File \u001b[1;32m~\\AppData\\Local\\Programs\\Python\\Python310\\lib\\site-packages\\torch\\autograd\\graph.py:824\u001b[0m, in \u001b[0;36m_engine_run_backward\u001b[1;34m(t_outputs, *args, **kwargs)\u001b[0m\n\u001b[0;32m    822\u001b[0m     unregister_hooks \u001b[38;5;241m=\u001b[39m _register_logging_hooks_on_whole_graph(t_outputs)\n\u001b[0;32m    823\u001b[0m \u001b[38;5;28;01mtry\u001b[39;00m:\n\u001b[1;32m--> 824\u001b[0m     \u001b[38;5;28;01mreturn\u001b[39;00m Variable\u001b[38;5;241m.\u001b[39m_execution_engine\u001b[38;5;241m.\u001b[39mrun_backward(  \u001b[38;5;66;03m# Calls into the C++ engine to run the backward pass\u001b[39;00m\n\u001b[0;32m    825\u001b[0m         t_outputs, \u001b[38;5;241m*\u001b[39margs, \u001b[38;5;241m*\u001b[39m\u001b[38;5;241m*\u001b[39mkwargs\n\u001b[0;32m    826\u001b[0m     )  \u001b[38;5;66;03m# Calls into the C++ engine to run the backward pass\u001b[39;00m\n\u001b[0;32m    827\u001b[0m \u001b[38;5;28;01mfinally\u001b[39;00m:\n\u001b[0;32m    828\u001b[0m     \u001b[38;5;28;01mif\u001b[39;00m attach_logging_hooks:\n",
      "\u001b[1;31mKeyboardInterrupt\u001b[0m: "
     ]
    }
   ],
   "source": [
    "# Train the model\n",
    "trainer.train(\n",
    "    train_loader=train_loader1,\n",
    "    num_epochs=10,\n",
    "    scheduler=scheduler\n",
    ")"
   ]
  },
  {
   "cell_type": "code",
   "execution_count": null,
   "id": "013e6785-92c7-41ea-8ddc-4e325e7aecbf",
   "metadata": {},
   "outputs": [],
   "source": [
    "# After training, you can evaluate on validation set if needed\n",
    "val_loss = trainer.evaluate(val_loader)\n",
    "print(f\"Validation Loss: {val_loss:.4f}\")"
   ]
  },
  {
   "cell_type": "code",
   "execution_count": 102,
   "id": "a4527668-c590-4bdc-a44e-cde3aef64109",
   "metadata": {},
   "outputs": [
    {
     "data": {
      "text/plain": [
       "61"
      ]
     },
     "execution_count": 102,
     "metadata": {},
     "output_type": "execute_result"
    }
   ],
   "source": [
    "tokenizer.get_vocab_size()"
   ]
  },
  {
   "cell_type": "code",
   "execution_count": null,
   "id": "03f6ec6f-7f4d-4ae1-b363-5803805e9088",
   "metadata": {},
   "outputs": [],
   "source": []
  }
 ],
 "metadata": {
  "kernelspec": {
   "display_name": "Python 3.10",
   "language": "python",
   "name": "python310"
  },
  "language_info": {
   "codemirror_mode": {
    "name": "ipython",
    "version": 3
   },
   "file_extension": ".py",
   "mimetype": "text/x-python",
   "name": "python",
   "nbconvert_exporter": "python",
   "pygments_lexer": "ipython3",
   "version": "3.10.11"
  }
 },
 "nbformat": 4,
 "nbformat_minor": 5
}
