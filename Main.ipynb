{
 "cells": [
  {
   "cell_type": "markdown",
   "id": "727d731d-1961-4907-91c6-0ae29edd34a8",
   "metadata": {},
   "source": [
    "%load_ext autoreload\n",
    "%autoreload 2"
   ]
  },
  {
   "cell_type": "markdown",
   "id": "629934a7-471e-44ec-b9ca-dd2b67dd04f7",
   "metadata": {},
   "source": [
    "# Tokenizing smiles"
   ]
  },
  {
   "cell_type": "code",
   "execution_count": 16,
   "id": "d4b486ba-ae31-444a-acb1-a34595d22257",
   "metadata": {},
   "outputs": [],
   "source": [
    "import pandas as pd\n",
    "import torch\n",
    "from Preprocess.utils import SMILESTokenizerBuilder, RawDataLoader\n",
    "\n"
   ]
  },
  {
   "cell_type": "code",
   "execution_count": 17,
   "id": "0ae180f9-fd25-49a5-9093-2c773a5f6bd9",
   "metadata": {},
   "outputs": [],
   "source": [
    "file_name = \"qm9.csv\"\n",
    "\n",
    "# Initialize the data loader with qm9.csv\n",
    "loader = RawDataLoader(file_name, smiles_column=\"smiles\")\n",
    "\n",
    "# Create a tokenizer with initial vocabulary of basic elements\n",
    "initial_vocab = [\"C\", \"N\", \"O\"]\n",
    "tokenizer = SMILESTokenizerBuilder(vocab_list=initial_vocab)\n",
    "\n",
    "# Get unique tokens from all SMILES\n",
    "unique_tokens = tokenizer.tokenize_with_vocab(loader.data, \"smiles\")\n",
    "tokenizer.build_vocab_mappings()\n"
   ]
  },
  {
   "cell_type": "code",
   "execution_count": 18,
   "id": "042d2470-a7af-4da9-8231-1960b8d0f149",
   "metadata": {},
   "outputs": [
    {
     "name": "stdout",
     "output_type": "stream",
     "text": [
      "Resulting vocabulary after processing all SMILES:\n",
      "['<SOS>', 'C', 'F', 'H', 'N', 'O', '#', '(', ')', '+', '-', '=', '[', ']', '1', '2', '3', '4', '5', '<EOS>', '<PAD>']\n",
      "\n",
      "Token's id\n",
      "{'<PAD>': 0, '<SOS>': 1, '<EOS>': 60, 'C': 10, 'F': 11, 'H': 12, 'N': 13, 'O': 14, '#': 30, '(': 31, ')': 32, '+': 33, '-': 34, '=': 35, '[': 36, ']': 37, '1': 40, '2': 41, '3': 42, '4': 43, '5': 44}\n",
      "\n",
      "Token statistics\n",
      "Number of unique tokens found: 21\n",
      "Tokens Frequency : Counter({'C': 846556, '1': 270020, 'O': 187997, 'N': 139764, '(': 126532, ')': 126532, '2': 121675, '=': 106335, '#': 37027, '3': 34756, '[': 9918, ']': 9918, 'H': 8247, '4': 5186, 'F': 3314, '-': 1808, '+': 1705, '5': 242})\n"
     ]
    },
    {
     "data": {
      "image/png": "[encoded data removed]",
      "text/plain": [
       "<Figure size 640x480 with 1 Axes>"
      ]
     },
     "metadata": {},
     "output_type": "display_data"
    }
   ],
   "source": [
    "# Print the resulting vocabulary\n",
    "\n",
    "print(\"Resulting vocabulary after processing all SMILES:\")\n",
    "print(unique_tokens)\n",
    "\n",
    "print(\"\\nToken's id\")\n",
    "print(tokenizer.vocab_to_idx)\n",
    "\n",
    "# Print statistics\n",
    "print(\"\\nToken statistics\")\n",
    "print(f\"Number of unique tokens found: {len(unique_tokens)}\")\n",
    "print(f\"Tokens Frequency : {tokenizer.token_counts}\")\n",
    "\n",
    "import matplotlib.pyplot as plt\n",
    "\n",
    "stats = tokenizer.token_counts\n",
    "sorted_items = sorted(stats.items(), key=lambda x: x[1], reverse=True)\n",
    "tokens, counts = zip(*sorted_items)\n",
    "\n",
    "plt.bar(tokens, counts)\n",
    "plt.show()"
   ]
  },
  {
   "cell_type": "code",
   "execution_count": 62,
   "id": "b4a1f3c1-9ebc-43d3-ba57-25bea487c88b",
   "metadata": {},
   "outputs": [
    {
     "name": "stdout",
     "output_type": "stream",
     "text": [
      "Tensor shape: torch.Size([133885, 40])\n",
      "\n",
      "Sequence with least padding (index 24869):\n",
      "Sequence: [1, 10, 40, 31, 35, 14, 32, 36, 13, 12, 37, 10, 31, 35, 14, 32, 36, 13, 12, 37, 10, 31, 35, 14, 32, 36, 13, 12, 37, 40, 60, 0, 0, 0, 0, 0, 0, 0, 0, 0]\n",
      "Number of padding tokens: 9\n",
      "Original SMILES: c1(=O)[nH]c(=O)[nH]c(=O)[nH]1\n",
      "\n",
      "Top 3 sequences with least padding:\n",
      "\n",
      "Index 24869:\n",
      "Sequence: [1, 10, 40, 31, 35, 14, 32, 36, 13, 12, 37, 10, 31, 35, 14, 32, 36, 13, 12, 37, 10, 31, 35, 14, 32, 36, 13, 12, 37, 40, 60, 0, 0, 0, 0, 0, 0, 0, 0, 0]\n",
      "Padding tokens: 9\n",
      "Original SMILES: c1(=O)[nH]c(=O)[nH]c(=O)[nH]1\n",
      "\n",
      "Index 54383:\n",
      "Sequence: [1, 10, 10, 40, 41, 10, 10, 31, 10, 40, 32, 31, 36, 13, 12, 41, 33, 37, 41, 32, 10, 31, 36, 14, 34, 37, 32, 35, 14, 60, 0, 0, 0, 0, 0, 0, 0, 0, 0, 0]\n",
      "Padding tokens: 10\n",
      "Original SMILES: CC12CC(C1)([NH2+]2)C([O-])=O\n",
      "\n",
      "Index 54386:\n",
      "Sequence: [1, 36, 13, 12, 42, 33, 37, 10, 40, 41, 10, 10, 31, 10, 40, 32, 31, 10, 41, 32, 10, 31, 36, 14, 34, 37, 32, 35, 14, 60, 0, 0, 0, 0, 0, 0, 0, 0, 0, 0]\n",
      "Padding tokens: 10\n",
      "Original SMILES: [NH3+]C12CC(C1)(C2)C([O-])=O\n",
      "\n",
      "Index 54548:\n",
      "Sequence: [1, 36, 14, 34, 37, 10, 31, 35, 14, 32, 10, 40, 41, 10, 10, 42, 10, 31, 36, 13, 12, 41, 33, 37, 40, 32, 10, 41, 42, 60, 0, 0, 0, 0, 0, 0, 0, 0, 0, 0]\n",
      "Padding tokens: 10\n",
      "Original SMILES: [O-]C(=O)C12CC3C([NH2+]1)C23\n",
      "\n",
      "Index 24953:\n",
      "Sequence: [1, 10, 40, 36, 13, 12, 37, 10, 41, 10, 31, 13, 40, 32, 36, 13, 12, 37, 10, 31, 35, 14, 32, 36, 13, 12, 37, 41, 60, 0, 0, 0, 0, 0, 0, 0, 0, 0, 0, 0]\n",
      "Padding tokens: 11\n",
      "Original SMILES: c1[nH]c2c(n1)[nH]c(=O)[nH]2\n"
     ]
    }
   ],
   "source": [
    "seq_len = 40\n",
    "smiles_tensor = tokenizer.encode_to_tensor(loader.data, seq_len)\n",
    "print(f\"Tensor shape: {smiles_tensor.shape}\")\n",
    "\n",
    "# Calculate number of zeros (padding) in each sequence\n",
    "padding_counts = (smiles_tensor == 0).sum(dim=1)\n",
    "\n",
    "# Find the index of the sequence with minimum padding\n",
    "min_padding_idx = padding_counts.argmin().item()\n",
    "\n",
    "# Get the sequence with least padding\n",
    "least_padded_seq = smiles_tensor[min_padding_idx]\n",
    "\n",
    "print(f\"\\nSequence with least padding (index {min_padding_idx}):\")\n",
    "print(f\"Sequence: {least_padded_seq.tolist()}\")\n",
    "print(f\"Number of padding tokens: {padding_counts[min_padding_idx].item()}\")\n",
    "print(f\"Original SMILES: {loader.data.iloc[min_padding_idx]['smiles']}\")\n",
    "\n",
    "# Optional: Show top 5 sequences with least padding\n",
    "print(\"\\nTop 3 sequences with least padding:\")\n",
    "top_3_indices = padding_counts.argsort()[:3]\n",
    "for idx in top_5_indices:\n",
    "    idx_int = idx.item()  # Convert tensor to integer\n",
    "    seq = smiles_tensor[idx_int]\n",
    "    print(f\"\\nIndex {idx_int}:\")\n",
    "    print(f\"Sequence: {seq.tolist()}\")\n",
    "    print(f\"Padding tokens: {padding_counts[idx_int].item()}\")\n",
    "    print(f\"Original SMILES: {loader.data.iloc[idx_int]['smiles']}\")"
   ]
  },
  {
   "cell_type": "markdown",
   "id": "35a63397-cd34-46e5-8aff-c30d9c92bf08",
   "metadata": {},
   "source": [
    "# Getting Target's "
   ]
  },
  {
   "cell_type": "code",
   "execution_count": 63,
   "id": "d618820b-7701-4af4-981f-fa5d08eca2b3",
   "metadata": {},
   "outputs": [
    {
     "name": "stdout",
     "output_type": "stream",
     "text": [
      "torch.Size([133885])\n",
      "tensor(-119.0479)\n"
     ]
    }
   ],
   "source": [
    "Y = torch.tensor(loader.data['u298'].values, dtype=torch.float32)\n",
    "print(Y.shape)\n",
    "print(Y[12])"
   ]
  },
  {
   "cell_type": "code",
   "execution_count": 64,
   "id": "7023f62c-b528-4fa8-b871-7e97ebe1cbd7",
   "metadata": {},
   "outputs": [
    {
     "name": "stdout",
     "output_type": "stream",
     "text": [
      "Y tensor statistics:\n",
      "Shape: torch.Size([133885])\n",
      "Min value: -714.5602\n",
      "Max value: -40.4761\n",
      "Mean value: -411.5355\n",
      "Median value: -417.8574\n",
      "Standard deviation: 40.0600\n",
      "\n",
      "Value distribution:\n",
      "Range -714.56 to -647.15: 2 values\n",
      "Range -647.15 to -579.74: 115 values\n",
      "Range -579.74 to -512.33: 628 values\n",
      "Range -512.33 to -444.93: 22465 values\n",
      "Range -444.93 to -377.52: 90693 values\n",
      "Range -377.52 to -310.11: 18313 values\n",
      "Range -310.11 to -242.70: 1492 values\n",
      "Range -242.70 to -175.29: 150 values\n",
      "Range -175.29 to -107.88: 21 values\n",
      "Range -107.88 to -40.48: 6 values\n",
      "\n",
      "Sample values (first 5):\n",
      "[-40.4760627746582, -56.52302551269531, -76.40187072753906, -77.30552673339844, -93.40937042236328]\n"
     ]
    }
   ],
   "source": [
    "# Basic statistics\n",
    "print(\"Y tensor statistics:\")\n",
    "print(f\"Shape: {Y.shape}\")\n",
    "print(f\"Min value: {Y.min().item():.4f}\")\n",
    "print(f\"Max value: {Y.max().item():.4f}\")\n",
    "print(f\"Mean value: {Y.float().mean().item():.4f}\")\n",
    "print(f\"Median value: {Y.float().median().item():.4f}\")\n",
    "print(f\"Standard deviation: {Y.float().std().item():.4f}\")\n",
    "\n",
    "# Optional: Show distribution in bins\n",
    "print(\"\\nValue distribution:\")\n",
    "hist = torch.histc(Y.float(), bins=10)\n",
    "bin_edges = torch.linspace(Y.min(), Y.max(), 11)\n",
    "for i in range(10):\n",
    "    print(f\"Range {bin_edges[i]:.2f} to {bin_edges[i+1]:.2f}: {hist[i].item():.0f} values\")\n",
    "\n",
    "# Optional: Show some sample values\n",
    "print(\"\\nSample values (first 5):\")\n",
    "print(Y[:5].tolist())"
   ]
  },
  {
   "cell_type": "markdown",
   "id": "53203c5e-b473-4d83-8cc0-3d274b9919bf",
   "metadata": {},
   "source": [
    "# Creating Model\n",
    "Model is consists of a Transformer_encoder part to reach latent space and then an MLP to do the Task"
   ]
  },
  {
   "cell_type": "code",
   "execution_count": 112,
   "id": "4de81fb9-b747-4928-877b-758609fb0d6f",
   "metadata": {},
   "outputs": [],
   "source": [
    "from Model.transformer_encoder import TransformerEncoder\n",
    "from Model.mlp import MLP\n",
    "from Model.combined_model import CombinedModel\n",
    "import torch.nn as nn"
   ]
  },
  {
   "cell_type": "code",
   "execution_count": 113,
   "id": "fc24a3f9-e244-4484-a8b7-09475f3a0cd8",
   "metadata": {},
   "outputs": [],
   "source": [
    "# Initialize the models\n",
    "transformer = TransformerEncoder(\n",
    "    vocab_size=tokenizer.get_vocab_size(),\n",
    "    d_model=128,\n",
    "    nhead=4,\n",
    "    num_encoder_layers=2,\n",
    "    dim_feedforward=512,\n",
    "    dropout=0.1,\n",
    "    max_seq_length=seq_len,\n",
    "    padding_token=0\n",
    ")\n",
    "\n",
    "mlp = MLP(\n",
    "    input_dim=128,\n",
    "    output_dim=1,\n",
    "    dims=[256,128,64,32,8,1],\n",
    "    activations=['leaky_relu', 'leaky_relu', 'tanh','tanh', 'tanh','']\n",
    ")\n",
    "\n",
    "model = CombinedModel(transformer , mlp)"
   ]
  },
  {
   "cell_type": "code",
   "execution_count": 114,
   "id": "d37fcbec-bbdc-4379-b344-766e9dbf9505",
   "metadata": {},
   "outputs": [
    {
     "name": "stdout",
     "output_type": "stream",
     "text": [
      "Total trainable parameters: 480,883\n",
      "\n",
      "Parameters by layer:\n",
      "transformer.token_embedding.weight: 7,808 parameters\n",
      "transformer.transformer_encoder.layers.0.self_attn.in_proj_weight: 49,152 parameters\n",
      "transformer.transformer_encoder.layers.0.self_attn.in_proj_bias: 384 parameters\n",
      "transformer.transformer_encoder.layers.0.self_attn.out_proj.weight: 16,384 parameters\n",
      "transformer.transformer_encoder.layers.0.self_attn.out_proj.bias: 128 parameters\n",
      "transformer.transformer_encoder.layers.0.linear1.weight: 65,536 parameters\n",
      "transformer.transformer_encoder.layers.0.linear1.bias: 512 parameters\n",
      "transformer.transformer_encoder.layers.0.linear2.weight: 65,536 parameters\n",
      "transformer.transformer_encoder.layers.0.linear2.bias: 128 parameters\n",
      "transformer.transformer_encoder.layers.0.norm1.weight: 128 parameters\n",
      "transformer.transformer_encoder.layers.0.norm1.bias: 128 parameters\n",
      "transformer.transformer_encoder.layers.0.norm2.weight: 128 parameters\n",
      "transformer.transformer_encoder.layers.0.norm2.bias: 128 parameters\n",
      "transformer.transformer_encoder.layers.1.self_attn.in_proj_weight: 49,152 parameters\n",
      "transformer.transformer_encoder.layers.1.self_attn.in_proj_bias: 384 parameters\n",
      "transformer.transformer_encoder.layers.1.self_attn.out_proj.weight: 16,384 parameters\n",
      "transformer.transformer_encoder.layers.1.self_attn.out_proj.bias: 128 parameters\n",
      "transformer.transformer_encoder.layers.1.linear1.weight: 65,536 parameters\n",
      "transformer.transformer_encoder.layers.1.linear1.bias: 512 parameters\n",
      "transformer.transformer_encoder.layers.1.linear2.weight: 65,536 parameters\n",
      "transformer.transformer_encoder.layers.1.linear2.bias: 128 parameters\n",
      "transformer.transformer_encoder.layers.1.norm1.weight: 128 parameters\n",
      "transformer.transformer_encoder.layers.1.norm1.bias: 128 parameters\n",
      "transformer.transformer_encoder.layers.1.norm2.weight: 128 parameters\n",
      "transformer.transformer_encoder.layers.1.norm2.bias: 128 parameters\n",
      "mlp.model.0.weight: 32,768 parameters\n",
      "mlp.model.0.bias: 256 parameters\n",
      "mlp.model.2.weight: 32,768 parameters\n",
      "mlp.model.2.bias: 128 parameters\n",
      "mlp.model.4.weight: 8,192 parameters\n",
      "mlp.model.4.bias: 64 parameters\n",
      "mlp.model.6.weight: 2,048 parameters\n",
      "mlp.model.6.bias: 32 parameters\n",
      "mlp.model.8.weight: 256 parameters\n",
      "mlp.model.8.bias: 8 parameters\n",
      "mlp.model.10.weight: 8 parameters\n",
      "mlp.model.10.bias: 1 parameters\n",
      "mlp.model.11.weight: 1 parameters\n",
      "mlp.model.11.bias: 1 parameters\n"
     ]
    }
   ],
   "source": [
    "def count_parameters(model):\n",
    "    return sum(p.numel() for p in model.parameters() if p.requires_grad)\n",
    "\n",
    "# Count total parameters\n",
    "total_params = count_parameters(model)\n",
    "print(f\"Total trainable parameters: {total_params:,}\")\n",
    "\n",
    "# Optional: Print parameters by layer\n",
    "print(\"\\nParameters by layer:\")\n",
    "for name, param in model.named_parameters():\n",
    "    if param.requires_grad:\n",
    "        print(f\"{name}: {param.numel():,} parameters\")"
   ]
  },
  {
   "cell_type": "code",
   "execution_count": 115,
   "id": "9f5ae1ea-a7af-4df8-a779-ba5df1376be3",
   "metadata": {},
   "outputs": [],
   "source": [
    "import torch\n",
    "from torch.utils.data import DataLoader, random_split\n",
    "from Model.utils import create_data_loaders\n",
    "import numpy as np"
   ]
  },
  {
   "cell_type": "code",
   "execution_count": 116,
   "id": "226dc502-7311-406b-abdc-932310054bf4",
   "metadata": {},
   "outputs": [],
   "source": [
    "X = smiles_tensor"
   ]
  },
  {
   "cell_type": "code",
   "execution_count": null,
   "id": "c6c6166a-678a-4b9c-9165-7cd5c6eb5b20",
   "metadata": {},
   "outputs": [],
   "source": [
    "# Create data loaders\n",
    "torch.manual_seed(42)\n",
    "np.random.seed(42)\n",
    "train_loader, val_loader, test_loader = create_data_loaders(\n",
    "    X=X,\n",
    "    Y=Y,\n",
    "    p=0.5,  # Use p% of data\n",
    "    split_ratios=[0.1, 0.18, 0.72],  # [test, val, train] ratios\n",
    "    batch_size=160\n",
    ")"
   ]
  },
  {
   "cell_type": "code",
   "execution_count": null,
   "id": "81fcb89d-eaa4-46fc-9139-1aa49b789caf",
   "metadata": {},
   "outputs": [],
   "source": [
    "import torch.optim as optim\n",
    "from Model.trainer import Trainer\n",
    "\n",
    "# Define loss function\n",
    "criterion = nn.MSELoss()  # For energy task\n",
    "\n",
    "# Define optimizer\n",
    "optimizer = torch.optim.Adam(\n",
    "    model.parameters(),\n",
    "    lr=0.001,\n",
    "    betas=(0.9, 0.999),\n",
    "    eps=1e-8,\n",
    "    weight_decay=0.01\n",
    ")\n",
    "\n",
    "# Define learning rate scheduler\n",
    "scheduler = torch.optim.lr_scheduler.ReduceLROnPlateau(\n",
    "    optimizer,\n",
    "    mode='min',\n",
    "    factor=0.5,\n",
    "    patience=5,\n",
    ")"
   ]
  },
  {
   "cell_type": "code",
   "execution_count": null,
   "id": "d1c6dc13-4761-4e1a-a598-16cfe10ff1cc",
   "metadata": {},
   "outputs": [],
   "source": [
    "# Set device\n",
    "device = torch.device('cuda' if torch.cuda.is_available() else 'cpu')\n",
    "print(f\"Using device: {device}\")\n",
    "\n",
    "model.to(device)\n",
    "\n",
    "# Initialize trainer\n",
    "trainer = Trainer(\n",
    "    model=model,\n",
    "    criterion=criterion,\n",
    "    optimizer=optimizer,\n",
    "    device=device\n",
    ")"
   ]
  },
  {
   "cell_type": "code",
   "execution_count": null,
   "id": "9f3c42d2-b886-455e-9dda-9f2952d24da6",
   "metadata": {},
   "outputs": [
    {
     "name": "stdout",
     "output_type": "stream",
     "text": [
      "Epoch: 1/10 Batch: 0/302 Loss: 166087.5781\n",
      "Epoch: 1/10 Batch: 20/302 Loss: 173412.2656\n",
      "Epoch: 1/10 Batch: 40/302 Loss: 170893.1875\n",
      "Epoch: 1/10 Batch: 60/302 Loss: 164825.5625\n",
      "Epoch: 1/10 Batch: 80/302 Loss: 169438.2812\n",
      "Epoch: 1/10 Batch: 100/302 Loss: 166745.2031\n",
      "Epoch: 1/10 Batch: 120/302 Loss: 172219.7812\n",
      "Epoch: 1/10 Batch: 140/302 Loss: 156341.7344\n",
      "Epoch: 1/10 Batch: 160/302 Loss: 163146.0469\n",
      "Epoch: 1/10 Batch: 180/302 Loss: 166608.6406\n",
      "Epoch: 1/10 Batch: 200/302 Loss: 167216.2031\n",
      "Epoch: 1/10 Batch: 220/302 Loss: 165062.5000\n",
      "Epoch: 1/10 Batch: 240/302 Loss: 172022.0938\n",
      "Epoch: 1/10 Batch: 260/302 Loss: 173457.7188\n",
      "Epoch: 1/10 Batch: 280/302 Loss: 161078.1562\n",
      "Epoch: 1/10 Batch: 300/302 Loss: 170250.3750\n",
      "Epoch: 1/10 Train Loss: 166754.3401 Time: 54.97s\n",
      "Epoch: 2/10 Batch: 0/302 Loss: 174126.2500\n",
      "Epoch: 2/10 Batch: 20/302 Loss: 160370.4531\n",
      "Epoch: 2/10 Batch: 40/302 Loss: 163518.5625\n",
      "Epoch: 2/10 Batch: 60/302 Loss: 170077.3125\n",
      "Epoch: 2/10 Batch: 80/302 Loss: 163266.2500\n",
      "Epoch: 2/10 Batch: 100/302 Loss: 167894.9844\n",
      "Epoch: 2/10 Batch: 120/302 Loss: 164035.9375\n",
      "Epoch: 2/10 Batch: 140/302 Loss: 174684.1719\n",
      "Epoch: 2/10 Batch: 160/302 Loss: 156408.7812\n",
      "Epoch: 2/10 Batch: 180/302 Loss: 150770.5000\n",
      "Epoch: 2/10 Batch: 200/302 Loss: 159272.1562\n",
      "Epoch: 2/10 Batch: 220/302 Loss: 172133.4531\n",
      "Epoch: 2/10 Batch: 240/302 Loss: 163104.9219\n",
      "Epoch: 2/10 Batch: 260/302 Loss: 167182.8438\n",
      "Epoch: 2/10 Batch: 280/302 Loss: 157635.2969\n",
      "Epoch: 2/10 Batch: 300/302 Loss: 162423.2188\n",
      "Epoch: 2/10 Train Loss: 163032.5883 Time: 55.01s\n",
      "Epoch: 3/10 Batch: 0/302 Loss: 165714.0938\n",
      "Epoch: 3/10 Batch: 20/302 Loss: 165354.0156\n",
      "Epoch: 3/10 Batch: 40/302 Loss: 166210.0156\n",
      "Epoch: 3/10 Batch: 60/302 Loss: 165880.0625\n",
      "Epoch: 3/10 Batch: 80/302 Loss: 152576.5625\n",
      "Epoch: 3/10 Batch: 100/302 Loss: 165730.4688\n",
      "Epoch: 3/10 Batch: 120/302 Loss: 152557.4219\n",
      "Epoch: 3/10 Batch: 140/302 Loss: 157345.2344\n",
      "Epoch: 3/10 Batch: 160/302 Loss: 152496.8906\n",
      "Epoch: 3/10 Batch: 180/302 Loss: 157186.2188\n",
      "Epoch: 3/10 Batch: 200/302 Loss: 150630.1094\n",
      "Epoch: 3/10 Batch: 220/302 Loss: 149416.6719\n"
     ]
    }
   ],
   "source": [
    "# Train the model\n",
    "trainer.train(\n",
    "    train_loader=train_loader,\n",
    "    num_epochs=10,\n",
    "    scheduler=scheduler\n",
    ")"
   ]
  },
  {
   "cell_type": "code",
   "execution_count": null,
   "id": "013e6785-92c7-41ea-8ddc-4e325e7aecbf",
   "metadata": {},
   "outputs": [],
   "source": [
    "# After training, you can evaluate on validation set if needed\n",
    "val_loss = trainer.evaluate(val_loader)\n",
    "print(f\"Validation Loss: {val_loss:.4f}\")"
   ]
  },
  {
   "cell_type": "code",
   "execution_count": 102,
   "id": "a4527668-c590-4bdc-a44e-cde3aef64109",
   "metadata": {},
   "outputs": [
    {
     "data": {
      "text/plain": [
       "61"
      ]
     },
     "execution_count": 102,
     "metadata": {},
     "output_type": "execute_result"
    }
   ],
   "source": [
    "tokenizer.get_vocab_size()"
   ]
  },
  {
   "cell_type": "code",
   "execution_count": null,
   "id": "03f6ec6f-7f4d-4ae1-b363-5803805e9088",
   "metadata": {},
   "outputs": [],
   "source": []
  }
 ],
 "metadata": {
  "kernelspec": {
   "display_name": "Python 3.10",
   "language": "python",
   "name": "python310"
  },
  "language_info": {
   "codemirror_mode": {
    "name": "ipython",
    "version": 3
   },
   "file_extension": ".py",
   "mimetype": "text/x-python",
   "name": "python",
   "nbconvert_exporter": "python",
   "pygments_lexer": "ipython3",
   "version": "3.10.11"
  }
 },
 "nbformat": 4,
 "nbformat_minor": 5
}
