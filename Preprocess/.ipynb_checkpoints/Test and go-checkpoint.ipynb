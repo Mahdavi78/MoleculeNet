{
 "cells": [
  {
   "cell_type": "code",
   "execution_count": 2,
   "id": "4cf7df38-9916-48c2-8089-d0dd38c02029",
   "metadata": {},
   "outputs": [],
   "source": [
    "%load_ext autoreload\n",
    "%autoreload 2\n",
    "\n",
    "from utils import SMILESTokenizerBuilder, RawDataLoader"
   ]
  },
  {
   "cell_type": "code",
   "execution_count": 3,
   "id": "9c48ea82-7aea-4ffc-8262-517dee74b3f0",
   "metadata": {},
   "outputs": [
    {
     "name": "stdout",
     "output_type": "stream",
     "text": [
      "Input SMILES: CC(=O)O\n",
      "Tokenized: ['BR', 'C', 'CC', 'CL', 'N', 'O', '(', ')', '<EOS>', '<PAD>', '<SOS>', '=']\n",
      "Character level: ['C', 'C', 'O', 'O', '(', ')', '=']\n"
     ]
    }
   ],
   "source": [
    "# Test case 1: Simple SMILES with basic vocabulary\n",
    "vocab = ['C', 'CC', 'O', 'N', 'Cl', 'Br']\n",
    "tokenizer = SMILESTokenizerBuilder(vocab)\n",
    "    \n",
    "# Test SMILES string (acetic acid)\n",
    "smiles = \"CC(=O)O\"\n",
    "print(f\"Input SMILES: {smiles}\")\n",
    "print(f\"Tokenized: {tokenizer.tokenize_with_vocab(smiles)}\")\n",
    "print(f\"Character level: {tokenizer.tokenize_char_level(smiles)}\")\n"
   ]
  },
  {
   "cell_type": "code",
   "execution_count": 4,
   "id": "b90c806a-431a-41d6-886b-3a4e30bf01c4",
   "metadata": {},
   "outputs": [
    {
     "ename": "TypeError",
     "evalue": "bad operand type for unary +: 'list'",
     "output_type": "error",
     "traceback": [
      "\u001b[1;31m---------------------------------------------------------------------------\u001b[0m",
      "\u001b[1;31mTypeError\u001b[0m                                 Traceback (most recent call last)",
      "Cell \u001b[1;32mIn[4], line 12\u001b[0m\n\u001b[0;32m      9\u001b[0m initial_vocab \u001b[38;5;241m=\u001b[39m [\u001b[38;5;124m'\u001b[39m\u001b[38;5;124mC\u001b[39m\u001b[38;5;124m'\u001b[39m, \u001b[38;5;124m'\u001b[39m\u001b[38;5;124mN\u001b[39m\u001b[38;5;124m'\u001b[39m, \u001b[38;5;124m'\u001b[39m\u001b[38;5;124mO\u001b[39m\u001b[38;5;124m'\u001b[39m, \u001b[38;5;124m'\u001b[39m\u001b[38;5;124mH\u001b[39m\u001b[38;5;124m'\u001b[39m, \u001b[38;5;124m'\u001b[39m\u001b[38;5;124mF\u001b[39m\u001b[38;5;124m'\u001b[39m, \u001b[38;5;124m'\u001b[39m\u001b[38;5;124mCl\u001b[39m\u001b[38;5;124m'\u001b[39m, \u001b[38;5;124m'\u001b[39m\u001b[38;5;124mBr\u001b[39m\u001b[38;5;124m'\u001b[39m, \u001b[38;5;124m'\u001b[39m\u001b[38;5;124mI\u001b[39m\u001b[38;5;124m'\u001b[39m, \u001b[38;5;124m'\u001b[39m\u001b[38;5;124mS\u001b[39m\u001b[38;5;124m'\u001b[39m, \u001b[38;5;124m'\u001b[39m\u001b[38;5;124mP\u001b[39m\u001b[38;5;124m'\u001b[39m]\n\u001b[0;32m     11\u001b[0m \u001b[38;5;66;03m# Create tokenizer with initial vocabulary\u001b[39;00m\n\u001b[1;32m---> 12\u001b[0m tokenizer \u001b[38;5;241m=\u001b[39m \u001b[43mSMILESTokenizerBuilder\u001b[49m\u001b[43m(\u001b[49m\u001b[43minitial_vocab\u001b[49m\u001b[43m)\u001b[49m\n\u001b[0;32m     13\u001b[0m tokenizer\u001b[38;5;241m.\u001b[39mbuild_vocab_mappings()\n\u001b[0;32m     15\u001b[0m \u001b[38;5;66;03m# Process all SMILES strings\u001b[39;00m\n",
      "File \u001b[1;32m~\\Desktop\\Molecules\\code\\Preprocess\\utils.py:42\u001b[0m, in \u001b[0;36mSMILESTokenizerBuilder.__init__\u001b[1;34m(self, vocab_list)\u001b[0m\n\u001b[0;32m     40\u001b[0m     vocab_list \u001b[38;5;241m=\u001b[39m [token\u001b[38;5;241m.\u001b[39mupper() \u001b[38;5;28;01mfor\u001b[39;00m token \u001b[38;5;129;01min\u001b[39;00m vocab_list]\n\u001b[0;32m     41\u001b[0m     \u001b[38;5;66;03m# Add special tokens at the beginning\u001b[39;00m\n\u001b[1;32m---> 42\u001b[0m     \u001b[38;5;28mself\u001b[39m\u001b[38;5;241m.\u001b[39mvocab_list \u001b[38;5;241m=\u001b[39m \u001b[38;5;28mself\u001b[39m\u001b[38;5;241m.\u001b[39mspecial_tokens[:\u001b[38;5;241m2\u001b[39m]\u001b[38;5;241m+\u001b[39m \u001b[38;5;241;43m+\u001b[39;49m\u001b[43m \u001b[49m\u001b[43mvocab_list\u001b[49m \u001b[38;5;241m+\u001b[39m \u001b[38;5;28mself\u001b[39m\u001b[38;5;241m.\u001b[39mspecial_tokens[\u001b[38;5;241m-\u001b[39m\u001b[38;5;241m1\u001b[39m]\n\u001b[0;32m     43\u001b[0m \u001b[38;5;28;01melse\u001b[39;00m:\n\u001b[0;32m     44\u001b[0m     \u001b[38;5;28mself\u001b[39m\u001b[38;5;241m.\u001b[39mvocab_list \u001b[38;5;241m=\u001b[39m \u001b[38;5;28;01mNone\u001b[39;00m\n",
      "\u001b[1;31mTypeError\u001b[0m: bad operand type for unary +: 'list'"
     ]
    }
   ],
   "source": [
    "import pandas as pd\n",
    "import torch\n",
    "import random\n",
    "\n",
    "# Initialize data loader\n",
    "data_loader = RawDataLoader(\"qm9.csv\", smiles_column=\"smiles\")\n",
    "\n",
    "# Create initial vocabulary with simple chemical elements\n",
    "initial_vocab = ['C', 'N', 'O', 'H', 'F', 'Cl', 'Br', 'I', 'S', 'P']\n",
    "\n",
    "# Create tokenizer with initial vocabulary\n",
    "tokenizer = SMILESTokenizerBuilder(initial_vocab)\n",
    "tokenizer.build_vocab_mappings()\n",
    "\n",
    "# Process all SMILES strings\n",
    "all_smiles = data_loader.data['smiles'].tolist()\n",
    "seq_len = 60  # Set sequence length for padding\n",
    "\n",
    "# Convert all SMILES to tensors\n",
    "all_tensors = tokenizer.smiles_to_tensor(all_smiles, seq_len)\n",
    "\n",
    "# Print vocabulary information\n",
    "print(\"Final vocabulary size:\", len(tokenizer.vocab_list))\n",
    "print(\"\\nFinal vocabulary:\")\n",
    "print(tokenizer.vocab_list)\n",
    "\n",
    "# Print vocabulary mappings\n",
    "print(\"\\nVocabulary to index mapping:\")\n",
    "for token, idx in tokenizer.vocab_to_idx.items():\n",
    "    print(f\"{token}: {idx}\")\n",
    "\n",
    "# Get 5 random samples\n",
    "random_indices = random.sample(range(len(all_tensors)), 5)\n",
    "print(\"\\n5 random tensor samples:\")\n",
    "for idx in random_indices:\n",
    "    print(f\"\\nSample {idx}:\")\n",
    "    print(f\"Original SMILES: {all_smiles[idx]}\")\n",
    "    print(f\"Tensor shape: {all_tensors[idx].shape}\")\n",
    "    print(f\"Tensor values: {all_tensors[idx].tolist()}\")"
   ]
  },
  {
   "cell_type": "code",
   "execution_count": 39,
   "id": "64265fac-2646-4d09-8900-54226162c00a",
   "metadata": {},
   "outputs": [],
   "source": [
    "import pandas as pd\n",
    "import torch\n",
    "\n",
    "# Initialize the data loader with qm9.csv\n",
    "loader = RawDataLoader(\"qm9.csv\", smiles_column=\"smiles\")\n",
    "\n",
    "# Create a tokenizer with initial vocabulary of basic elements\n",
    "initial_vocab = [\"C\", \"N\", \"O\"]\n",
    "tokenizer = SMILESTokenizerBuilder(vocab_list=initial_vocab)\n",
    "\n",
    "# Get unique tokens from all SMILES\n",
    "unique_tokens = tokenizer.tokenize_with_vocab(loader.data, \"smiles\")\n",
    "tokenizer.build_vocab_mappings()\n"
   ]
  },
  {
   "cell_type": "code",
   "execution_count": 40,
   "id": "d5b3cba5-6b04-41c6-bf65-104c8f713c2d",
   "metadata": {},
   "outputs": [
    {
     "name": "stdout",
     "output_type": "stream",
     "text": [
      "Initial vocabulary: ['C', 'N', 'O']\n",
      "\n",
      "Resulting vocabulary after processing all SMILES:\n",
      "['<SOS>', 'C', 'F', 'H', 'N', 'O', '#', '(', ')', '+', '-', '=', '[', ']', '1', '2', '3', '4', '5', '<EOS>', '<PAD>']\n",
      "\n",
      "Token's id\n",
      "{'<PAD>': 0, '<SOS>': 1, '<EOS>': 60, 'C': 10, 'F': 11, 'H': 12, 'N': 13, 'O': 14, '#': 30, '(': 31, ')': 32, '+': 33, '-': 34, '=': 35, '[': 36, ']': 37, '1': 40, '2': 41, '3': 42, '4': 43, '5': 44}\n",
      "\n",
      "Token statistics\n",
      "Number of unique tokens found: 21\n",
      "Tokens Frequency : Counter({'C': 846556, '1': 270020, 'O': 187997, 'N': 139764, '(': 126532, ')': 126532, '2': 121675, '=': 106335, '#': 37027, '3': 34756, '[': 9918, ']': 9918, 'H': 8247, '4': 5186, 'F': 3314, '-': 1808, '+': 1705, '5': 242})\n"
     ]
    },
    {
     "data": {
      "image/png": "[encoded data removed]",
      "text/plain": [
       "<Figure size 640x480 with 1 Axes>"
      ]
     },
     "metadata": {},
     "output_type": "display_data"
    }
   ],
   "source": [
    "# Print the resulting vocabulary\n",
    "print(\"Initial vocabulary:\", initial_vocab)\n",
    "print(\"\\nResulting vocabulary after processing all SMILES:\")\n",
    "print(unique_tokens)\n",
    "\n",
    "print(\"\\nToken's id\")\n",
    "print(tokenizer.vocab_to_idx)\n",
    "\n",
    "# Print statistics\n",
    "print(\"\\nToken statistics\")\n",
    "print(f\"Number of unique tokens found: {len(unique_tokens)}\")\n",
    "print(f\"Tokens Frequency : {tokenizer.token_counts}\")\n",
    "\n",
    "import matplotlib.pyplot as plt\n",
    "\n",
    "stats = tokenizer.token_counts\n",
    "sorted_items = sorted(stats.items(), key=lambda x: x[1], reverse=True)\n",
    "tokens, counts = zip(*sorted_items)\n",
    "\n",
    "plt.bar(tokens, counts)\n",
    "plt.show()"
   ]
  },
  {
   "cell_type": "code",
   "execution_count": 42,
   "id": "635dc30f-a5e9-42b0-9da6-31e8e793141c",
   "metadata": {},
   "outputs": [
    {
     "name": "stdout",
     "output_type": "stream",
     "text": [
      "Tensor shape: torch.Size([133885, 30])\n"
     ]
    }
   ],
   "source": [
    "tensor = tokenizer.encode_to_tensor(loader.data, seq_len=30)\n",
    "print(f\"Tensor shape: {tensor.shape}\")\n"
   ]
  },
  {
   "cell_type": "code",
   "execution_count": 43,
   "id": "d17d6835-b1d3-4e81-9708-8f32c669bd7f",
   "metadata": {},
   "outputs": [
    {
     "name": "stdout",
     "output_type": "stream",
     "text": [
      "First sequence: [1, 10, 40, 10, 10, 31, 14, 10, 40, 32, 13, 60, 0, 0, 0, 0, 0, 0, 0, 0, 0, 0, 0, 0, 0, 0, 0, 0, 0, 0]\n"
     ]
    }
   ],
   "source": [
    "print(f\"First sequence: {tensor[194].tolist()}\")"
   ]
  },
  {
   "cell_type": "code",
   "execution_count": null,
   "id": "a3fce759-0e73-4ea1-abd4-7b44052a58d2",
   "metadata": {},
   "outputs": [],
   "source": []
  }
 ],
 "metadata": {
  "kernelspec": {
   "display_name": "Python 3.10",
   "language": "python",
   "name": "python310"
  },
  "language_info": {
   "codemirror_mode": {
    "name": "ipython",
    "version": 3
   },
   "file_extension": ".py",
   "mimetype": "text/x-python",
   "name": "python",
   "nbconvert_exporter": "python",
   "pygments_lexer": "ipython3",
   "version": "3.10.11"
  }
 },
 "nbformat": 4,
 "nbformat_minor": 5
}
